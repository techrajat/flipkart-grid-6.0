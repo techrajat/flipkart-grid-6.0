{
 "cells": [
  {
   "cell_type": "code",
   "execution_count": 1,
   "metadata": {},
   "outputs": [
    {
     "name": "stderr",
     "output_type": "stream",
     "text": [
      "WARNING:absl:Compiled the loaded model, but the compiled metrics have yet to be built. `model.compile_metrics` will be empty until you train or evaluate the model.\n"
     ]
    }
   ],
   "source": [
    "import tensorflow as tf\n",
    "from tensorflow.keras.preprocessing.text import Tokenizer\n",
    "from tensorflow.keras.preprocessing.sequence import pad_sequences\n",
    "import pickle\n",
    "import numpy as np\n",
    "import random\n",
    "import re\n",
    "\n",
    "model = tf.keras.models.load_model('intent_prediction_model.h5')\n",
    "\n",
    "tokenizer = Tokenizer(num_words=5000)\n",
    "\n",
    "# Load the tokenizer\n",
    "with open('tokenizer.pkl', 'rb') as f:\n",
    "    tokenizer = pickle.load(f)\n",
    "\n",
    "# Load the label encoder\n",
    "with open('label_encoder.pkl', 'rb') as f:\n",
    "    label_encoder = pickle.load(f)\n",
    "\n",
    "with open('max_len.pkl', 'rb') as f:\n",
    "    max_len = pickle.load(f)"
   ]
  },
  {
   "cell_type": "code",
   "execution_count": 2,
   "metadata": {},
   "outputs": [],
   "source": [
    "# Function to predict intent using the loaded model\n",
    "def predict_intent(query):\n",
    "    seq = tokenizer.texts_to_sequences([query])\n",
    "    padded = pad_sequences(seq, maxlen=max_len)\n",
    "    pred = model.predict(padded)\n",
    "    intent = label_encoder.inverse_transform([np.argmax(pred)])\n",
    "    return intent[0]\n",
    "\n",
    "from pymongo import MongoClient\n",
    "client = MongoClient(\"mongodb://localhost:27017/\")\n",
    "db = client['Flipkart-Grid']\n",
    "collection = db['Products']"
   ]
  },
  {
   "cell_type": "code",
   "execution_count": 3,
   "metadata": {},
   "outputs": [],
   "source": [
    "checkout_response = [\"You've made an excellent choice! Let's get this to you.\",\n",
    "                     \"Ready to complete your purchase? Let's move forward.\",\n",
    "                     \"You're about to get something great! Let's wrap this up.\",\n",
    "                     \"Your selection is top-notch! Time to finalize the details.\",\n",
    "                     \"You're all set! Let's proceed to complete your order.\",\n",
    "                     \"This is going to be fantastic! Let's finish the checkout.\",\n",
    "                     \"You're making a great decision! Let's get everything sorted.\",\n",
    "                     \"Exciting times ahead! Let's finalize your purchase.\",\n",
    "                     \"Let's complete this, and you'll have it in no time!\",\n",
    "                     \"You're about to receive something wonderful! Let's get it checked out.\"]"
   ]
  },
  {
   "cell_type": "code",
   "execution_count": 98,
   "metadata": {},
   "outputs": [],
   "source": [
    "import random\n",
    "\n",
    "def negotiation_response(user_price, discount_price, retail_price):\n",
    "    price_reduction = retail_price * random.uniform(0.1, 0.2)\n",
    "    seller_price = max(user_price, max(retail_price - price_reduction, discount_price))\n",
    "    seller_price = int(seller_price)\n",
    "\n",
    "    negotiation_agree = [\n",
    "        f\"Absolutely! I'm happy to accept your offer of {user_price} rupees. Let's finalize the deal!\",\n",
    "        f\"That works for me! I'll adjust the price to {user_price} rupees. Thanks for reaching out!\",\n",
    "        f\"Deal! I'm happy to agree to {user_price} rupees. Let's proceed with the purchase!\",\n",
    "        f\"Sure! I'll set the price to {user_price} rupees. It's a pleasure to work with you!\",\n",
    "        f\"Great! I'll accept {user_price} rupees for this product. Thanks for your offer!\"\n",
    "    ]\n",
    "    \n",
    "    negotiation_deny = [\n",
    "        f\"I can offer a small discount, bringing it down to {seller_price} rupees. Let me know what you think!\",\n",
    "        f\"How about this? I'll reduce it slightly to {seller_price} rupees. Does that work for you?\",\n",
    "        f\"We can adjust the price to {seller_price} rupees. So let's make a deal!\",\n",
    "        f\"I'm willing to go down to {seller_price} rupees. It's a great price for this product!\",\n",
    "        f\"I can drop the price to {seller_price} rupees. I think you'll find this offer quite appealing!\"\n",
    "    ]\n",
    "    \n",
    "    negotiation_interactive = [\n",
    "        f\"I can offer {seller_price} rupees. How does that work for you?\",\n",
    "        f\"What if we adjust the price to {seller_price} rupees? Does that sound good?\",\n",
    "        f\"Let's settle on {seller_price} rupees. Let me know your thoughts!\",\n",
    "        f\"I'm willing to adjust the price to {seller_price} rupees. How about that?\",\n",
    "        f\"How about {seller_price} rupees? I think that's a fair deal.\"\n",
    "    ]\n",
    "\n",
    "    if user_price < discount_price:\n",
    "        return seller_price, random.choice(negotiation_deny)\n",
    "    else:\n",
    "        if seller_price == user_price:\n",
    "            return seller_price, random.choice(negotiation_agree)\n",
    "        else:\n",
    "            return seller_price, random.choice(negotiation_interactive)"
   ]
  },
  {
   "cell_type": "code",
   "execution_count": 99,
   "metadata": {},
   "outputs": [],
   "source": [
    "def response(query, uniq_id):\n",
    "    intent = predict_intent(query)\n",
    "    if(intent == 'checkout'):\n",
    "        return \"checkout\", random.choice(checkout_response)\n",
    "    else:\n",
    "        nums = re.findall(r'\\d+', query)\n",
    "        nums = [int(num) for num in nums]\n",
    "        product = collection.find_one({'uniq_id': uniq_id}, {'_id': 0})\n",
    "        retail_price = product['retail_price']\n",
    "        discount_price = product['discounted_price']\n",
    "        if(len(nums) == 0):\n",
    "            return negotiation_response(-1, discount_price, retail_price)\n",
    "        else:\n",
    "            user_price = nums[0]\n",
    "            return negotiation_response(user_price, discount_price, retail_price)"
   ]
  },
  {
   "cell_type": "code",
   "execution_count": 100,
   "metadata": {},
   "outputs": [
    {
     "name": "stdout",
     "output_type": "stream",
     "text": [
      "\u001b[1m1/1\u001b[0m \u001b[32m━━━━━━━━━━━━━━━━━━━━\u001b[0m\u001b[37m\u001b[0m \u001b[1m0s\u001b[0m 23ms/step\n"
     ]
    },
    {
     "data": {
      "text/plain": [
       "(828, 'What if we adjust the price to 828 rupees? Does that sound good?')"
      ]
     },
     "execution_count": 100,
     "metadata": {},
     "output_type": "execute_result"
    }
   ],
   "source": [
    "response(\"Can you give this product in 500 rupees?\", \"c2d766ca982eca8304150849735ffef9\")"
   ]
  }
 ],
 "metadata": {
  "kernelspec": {
   "display_name": "env",
   "language": "python",
   "name": "python3"
  },
  "language_info": {
   "codemirror_mode": {
    "name": "ipython",
    "version": 3
   },
   "file_extension": ".py",
   "mimetype": "text/x-python",
   "name": "python",
   "nbconvert_exporter": "python",
   "pygments_lexer": "ipython3",
   "version": "3.11.4"
  }
 },
 "nbformat": 4,
 "nbformat_minor": 2
}

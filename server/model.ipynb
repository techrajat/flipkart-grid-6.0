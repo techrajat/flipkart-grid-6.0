{
 "cells": [
  {
   "cell_type": "code",
   "execution_count": 1,
   "metadata": {},
   "outputs": [],
   "source": [
    "import pandas as pd"
   ]
  },
  {
   "cell_type": "code",
   "execution_count": 2,
   "metadata": {},
   "outputs": [],
   "source": [
    "articles = pd.read_csv('database.csv')"
   ]
  },
  {
   "cell_type": "code",
   "execution_count": 3,
   "metadata": {},
   "outputs": [
    {
     "data": {
      "text/html": [
       "<div>\n",
       "<style scoped>\n",
       "    .dataframe tbody tr th:only-of-type {\n",
       "        vertical-align: middle;\n",
       "    }\n",
       "\n",
       "    .dataframe tbody tr th {\n",
       "        vertical-align: top;\n",
       "    }\n",
       "\n",
       "    .dataframe thead th {\n",
       "        text-align: right;\n",
       "    }\n",
       "</style>\n",
       "<table border=\"1\" class=\"dataframe\">\n",
       "  <thead>\n",
       "    <tr style=\"text-align: right;\">\n",
       "      <th></th>\n",
       "      <th>uniq_id</th>\n",
       "      <th>crawl_timestamp</th>\n",
       "      <th>product_url</th>\n",
       "      <th>product_name</th>\n",
       "      <th>product_category_tree</th>\n",
       "      <th>pid</th>\n",
       "      <th>retail_price</th>\n",
       "      <th>discounted_price</th>\n",
       "      <th>image</th>\n",
       "      <th>is_FK_Advantage_product</th>\n",
       "      <th>description</th>\n",
       "      <th>product_rating</th>\n",
       "      <th>overall_rating</th>\n",
       "      <th>brand</th>\n",
       "      <th>product_specifications</th>\n",
       "    </tr>\n",
       "  </thead>\n",
       "  <tbody>\n",
       "    <tr>\n",
       "      <th>0</th>\n",
       "      <td>c2d766ca982eca8304150849735ffef9</td>\n",
       "      <td>2016-03-25 22:59:23 +0000</td>\n",
       "      <td>http://www.flipkart.com/alisha-solid-women-s-c...</td>\n",
       "      <td>Alisha Solid Women's Cycling Shorts</td>\n",
       "      <td>[\"Clothing &gt;&gt; Women's Clothing &gt;&gt; Lingerie, Sl...</td>\n",
       "      <td>SRTEH2FF9KEDEFGF</td>\n",
       "      <td>999.0</td>\n",
       "      <td>379.0</td>\n",
       "      <td>[\"http://img5a.flixcart.com/image/short/u/4/a/...</td>\n",
       "      <td>False</td>\n",
       "      <td>Key Features of Alisha Solid Women's Cycling S...</td>\n",
       "      <td>No rating available</td>\n",
       "      <td>No rating available</td>\n",
       "      <td>Alisha</td>\n",
       "      <td>{\"product_specification\"=&gt;[{\"key\"=&gt;\"Number of ...</td>\n",
       "    </tr>\n",
       "    <tr>\n",
       "      <th>1</th>\n",
       "      <td>7f7036a6d550aaa89d34c77bd39a5e48</td>\n",
       "      <td>2016-03-25 22:59:23 +0000</td>\n",
       "      <td>http://www.flipkart.com/fabhomedecor-fabric-do...</td>\n",
       "      <td>FabHomeDecor Fabric Double Sofa Bed</td>\n",
       "      <td>[\"Furniture &gt;&gt; Living Room Furniture &gt;&gt; Sofa B...</td>\n",
       "      <td>SBEEH3QGU7MFYJFY</td>\n",
       "      <td>32157.0</td>\n",
       "      <td>22646.0</td>\n",
       "      <td>[\"http://img6a.flixcart.com/image/sofa-bed/j/f...</td>\n",
       "      <td>False</td>\n",
       "      <td>FabHomeDecor Fabric Double Sofa Bed (Finish Co...</td>\n",
       "      <td>No rating available</td>\n",
       "      <td>No rating available</td>\n",
       "      <td>FabHomeDecor</td>\n",
       "      <td>{\"product_specification\"=&gt;[{\"key\"=&gt;\"Installati...</td>\n",
       "    </tr>\n",
       "    <tr>\n",
       "      <th>2</th>\n",
       "      <td>f449ec65dcbc041b6ae5e6a32717d01b</td>\n",
       "      <td>2016-03-25 22:59:23 +0000</td>\n",
       "      <td>http://www.flipkart.com/aw-bellies/p/itmeh4grg...</td>\n",
       "      <td>AW Bellies</td>\n",
       "      <td>[\"Footwear &gt;&gt; Women's Footwear &gt;&gt; Ballerinas &gt;...</td>\n",
       "      <td>SHOEH4GRSUBJGZXE</td>\n",
       "      <td>999.0</td>\n",
       "      <td>499.0</td>\n",
       "      <td>[\"http://img5a.flixcart.com/image/shoe/7/z/z/r...</td>\n",
       "      <td>False</td>\n",
       "      <td>Key Features of AW Bellies Sandals Wedges Heel...</td>\n",
       "      <td>No rating available</td>\n",
       "      <td>No rating available</td>\n",
       "      <td>AW</td>\n",
       "      <td>{\"product_specification\"=&gt;[{\"key\"=&gt;\"Ideal For\"...</td>\n",
       "    </tr>\n",
       "    <tr>\n",
       "      <th>3</th>\n",
       "      <td>0973b37acd0c664e3de26e97e5571454</td>\n",
       "      <td>2016-03-25 22:59:23 +0000</td>\n",
       "      <td>http://www.flipkart.com/alisha-solid-women-s-c...</td>\n",
       "      <td>Alisha Solid Women's Cycling Shorts</td>\n",
       "      <td>[\"Clothing &gt;&gt; Women's Clothing &gt;&gt; Lingerie, Sl...</td>\n",
       "      <td>SRTEH2F6HUZMQ6SJ</td>\n",
       "      <td>699.0</td>\n",
       "      <td>267.0</td>\n",
       "      <td>[\"http://img5a.flixcart.com/image/short/6/2/h/...</td>\n",
       "      <td>False</td>\n",
       "      <td>Key Features of Alisha Solid Women's Cycling S...</td>\n",
       "      <td>No rating available</td>\n",
       "      <td>No rating available</td>\n",
       "      <td>Alisha</td>\n",
       "      <td>{\"product_specification\"=&gt;[{\"key\"=&gt;\"Number of ...</td>\n",
       "    </tr>\n",
       "    <tr>\n",
       "      <th>4</th>\n",
       "      <td>bc940ea42ee6bef5ac7cea3fb5cfbee7</td>\n",
       "      <td>2016-03-25 22:59:23 +0000</td>\n",
       "      <td>http://www.flipkart.com/sicons-all-purpose-arn...</td>\n",
       "      <td>Sicons All Purpose Arnica Dog Shampoo</td>\n",
       "      <td>[\"Pet Supplies &gt;&gt; Grooming &gt;&gt; Skin &amp; Coat Care...</td>\n",
       "      <td>PSOEH3ZYDMSYARJ5</td>\n",
       "      <td>220.0</td>\n",
       "      <td>210.0</td>\n",
       "      <td>[\"http://img5a.flixcart.com/image/pet-shampoo/...</td>\n",
       "      <td>False</td>\n",
       "      <td>Specifications of Sicons All Purpose Arnica Do...</td>\n",
       "      <td>No rating available</td>\n",
       "      <td>No rating available</td>\n",
       "      <td>Sicons</td>\n",
       "      <td>{\"product_specification\"=&gt;[{\"key\"=&gt;\"Pet Type\",...</td>\n",
       "    </tr>\n",
       "  </tbody>\n",
       "</table>\n",
       "</div>"
      ],
      "text/plain": [
       "                            uniq_id            crawl_timestamp  \\\n",
       "0  c2d766ca982eca8304150849735ffef9  2016-03-25 22:59:23 +0000   \n",
       "1  7f7036a6d550aaa89d34c77bd39a5e48  2016-03-25 22:59:23 +0000   \n",
       "2  f449ec65dcbc041b6ae5e6a32717d01b  2016-03-25 22:59:23 +0000   \n",
       "3  0973b37acd0c664e3de26e97e5571454  2016-03-25 22:59:23 +0000   \n",
       "4  bc940ea42ee6bef5ac7cea3fb5cfbee7  2016-03-25 22:59:23 +0000   \n",
       "\n",
       "                                         product_url  \\\n",
       "0  http://www.flipkart.com/alisha-solid-women-s-c...   \n",
       "1  http://www.flipkart.com/fabhomedecor-fabric-do...   \n",
       "2  http://www.flipkart.com/aw-bellies/p/itmeh4grg...   \n",
       "3  http://www.flipkart.com/alisha-solid-women-s-c...   \n",
       "4  http://www.flipkart.com/sicons-all-purpose-arn...   \n",
       "\n",
       "                            product_name  \\\n",
       "0    Alisha Solid Women's Cycling Shorts   \n",
       "1    FabHomeDecor Fabric Double Sofa Bed   \n",
       "2                             AW Bellies   \n",
       "3    Alisha Solid Women's Cycling Shorts   \n",
       "4  Sicons All Purpose Arnica Dog Shampoo   \n",
       "\n",
       "                               product_category_tree               pid  \\\n",
       "0  [\"Clothing >> Women's Clothing >> Lingerie, Sl...  SRTEH2FF9KEDEFGF   \n",
       "1  [\"Furniture >> Living Room Furniture >> Sofa B...  SBEEH3QGU7MFYJFY   \n",
       "2  [\"Footwear >> Women's Footwear >> Ballerinas >...  SHOEH4GRSUBJGZXE   \n",
       "3  [\"Clothing >> Women's Clothing >> Lingerie, Sl...  SRTEH2F6HUZMQ6SJ   \n",
       "4  [\"Pet Supplies >> Grooming >> Skin & Coat Care...  PSOEH3ZYDMSYARJ5   \n",
       "\n",
       "   retail_price  discounted_price  \\\n",
       "0         999.0             379.0   \n",
       "1       32157.0           22646.0   \n",
       "2         999.0             499.0   \n",
       "3         699.0             267.0   \n",
       "4         220.0             210.0   \n",
       "\n",
       "                                               image  is_FK_Advantage_product  \\\n",
       "0  [\"http://img5a.flixcart.com/image/short/u/4/a/...                    False   \n",
       "1  [\"http://img6a.flixcart.com/image/sofa-bed/j/f...                    False   \n",
       "2  [\"http://img5a.flixcart.com/image/shoe/7/z/z/r...                    False   \n",
       "3  [\"http://img5a.flixcart.com/image/short/6/2/h/...                    False   \n",
       "4  [\"http://img5a.flixcart.com/image/pet-shampoo/...                    False   \n",
       "\n",
       "                                         description       product_rating  \\\n",
       "0  Key Features of Alisha Solid Women's Cycling S...  No rating available   \n",
       "1  FabHomeDecor Fabric Double Sofa Bed (Finish Co...  No rating available   \n",
       "2  Key Features of AW Bellies Sandals Wedges Heel...  No rating available   \n",
       "3  Key Features of Alisha Solid Women's Cycling S...  No rating available   \n",
       "4  Specifications of Sicons All Purpose Arnica Do...  No rating available   \n",
       "\n",
       "        overall_rating         brand  \\\n",
       "0  No rating available        Alisha   \n",
       "1  No rating available  FabHomeDecor   \n",
       "2  No rating available            AW   \n",
       "3  No rating available        Alisha   \n",
       "4  No rating available        Sicons   \n",
       "\n",
       "                              product_specifications  \n",
       "0  {\"product_specification\"=>[{\"key\"=>\"Number of ...  \n",
       "1  {\"product_specification\"=>[{\"key\"=>\"Installati...  \n",
       "2  {\"product_specification\"=>[{\"key\"=>\"Ideal For\"...  \n",
       "3  {\"product_specification\"=>[{\"key\"=>\"Number of ...  \n",
       "4  {\"product_specification\"=>[{\"key\"=>\"Pet Type\",...  "
      ]
     },
     "execution_count": 3,
     "metadata": {},
     "output_type": "execute_result"
    }
   ],
   "source": [
    "articles.head()"
   ]
  },
  {
   "cell_type": "code",
   "execution_count": 42,
   "metadata": {},
   "outputs": [],
   "source": [
    "# Taking only 10000 items :-\n",
    "# articles = articles[:10000]"
   ]
  },
  {
   "cell_type": "code",
   "execution_count": 4,
   "metadata": {},
   "outputs": [],
   "source": [
    "# Combine all info from descriptive columns to a single column separated by space :-\n",
    "cols = ['product_name', 'product_category_tree', 'description', 'brand']\n",
    "\n",
    "articles['combined_cols'] = articles[cols].apply(lambda row: ' '.join(row.values.astype(str)), axis=1)"
   ]
  },
  {
   "cell_type": "code",
   "execution_count": 5,
   "metadata": {},
   "outputs": [],
   "source": [
    "articles = articles[['uniq_id', 'combined_cols']]"
   ]
  },
  {
   "cell_type": "code",
   "execution_count": 29,
   "metadata": {},
   "outputs": [
    {
     "data": {
      "text/html": [
       "<div>\n",
       "<style scoped>\n",
       "    .dataframe tbody tr th:only-of-type {\n",
       "        vertical-align: middle;\n",
       "    }\n",
       "\n",
       "    .dataframe tbody tr th {\n",
       "        vertical-align: top;\n",
       "    }\n",
       "\n",
       "    .dataframe thead th {\n",
       "        text-align: right;\n",
       "    }\n",
       "</style>\n",
       "<table border=\"1\" class=\"dataframe\">\n",
       "  <thead>\n",
       "    <tr style=\"text-align: right;\">\n",
       "      <th></th>\n",
       "      <th>uniq_id</th>\n",
       "      <th>combined_cols</th>\n",
       "    </tr>\n",
       "  </thead>\n",
       "  <tbody>\n",
       "    <tr>\n",
       "      <th>0</th>\n",
       "      <td>c2d766ca982eca8304150849735ffef9</td>\n",
       "      <td>Alisha Solid Women's Cycling Shorts [\"Clothing...</td>\n",
       "    </tr>\n",
       "    <tr>\n",
       "      <th>1</th>\n",
       "      <td>7f7036a6d550aaa89d34c77bd39a5e48</td>\n",
       "      <td>FabHomeDecor Fabric Double Sofa Bed [\"Furnitur...</td>\n",
       "    </tr>\n",
       "    <tr>\n",
       "      <th>2</th>\n",
       "      <td>f449ec65dcbc041b6ae5e6a32717d01b</td>\n",
       "      <td>AW Bellies [\"Footwear &gt;&gt; Women's Footwear &gt;&gt; B...</td>\n",
       "    </tr>\n",
       "    <tr>\n",
       "      <th>3</th>\n",
       "      <td>0973b37acd0c664e3de26e97e5571454</td>\n",
       "      <td>Alisha Solid Women's Cycling Shorts [\"Clothing...</td>\n",
       "    </tr>\n",
       "    <tr>\n",
       "      <th>4</th>\n",
       "      <td>bc940ea42ee6bef5ac7cea3fb5cfbee7</td>\n",
       "      <td>Sicons All Purpose Arnica Dog Shampoo [\"Pet Su...</td>\n",
       "    </tr>\n",
       "  </tbody>\n",
       "</table>\n",
       "</div>"
      ],
      "text/plain": [
       "                            uniq_id  \\\n",
       "0  c2d766ca982eca8304150849735ffef9   \n",
       "1  7f7036a6d550aaa89d34c77bd39a5e48   \n",
       "2  f449ec65dcbc041b6ae5e6a32717d01b   \n",
       "3  0973b37acd0c664e3de26e97e5571454   \n",
       "4  bc940ea42ee6bef5ac7cea3fb5cfbee7   \n",
       "\n",
       "                                       combined_cols  \n",
       "0  Alisha Solid Women's Cycling Shorts [\"Clothing...  \n",
       "1  FabHomeDecor Fabric Double Sofa Bed [\"Furnitur...  \n",
       "2  AW Bellies [\"Footwear >> Women's Footwear >> B...  \n",
       "3  Alisha Solid Women's Cycling Shorts [\"Clothing...  \n",
       "4  Sicons All Purpose Arnica Dog Shampoo [\"Pet Su...  "
      ]
     },
     "execution_count": 29,
     "metadata": {},
     "output_type": "execute_result"
    }
   ],
   "source": [
    "articles.head()"
   ]
  },
  {
   "cell_type": "code",
   "execution_count": 47,
   "metadata": {},
   "outputs": [],
   "source": [
    "# Download the stopwords corpus and Porter stemming algorithm :-\n",
    "\n",
    "# import nltk\n",
    "\n",
    "# nltk.download('stopwords')\n",
    "# nltk.download('punkt')"
   ]
  },
  {
   "cell_type": "code",
   "execution_count": 30,
   "metadata": {},
   "outputs": [],
   "source": [
    "# Data cleaning :-\n",
    "from nltk.corpus import stopwords\n",
    "from nltk.stem import PorterStemmer\n",
    "def text_process(desc):\n",
    "    articles['combined_cols'].fillna(value='', inplace=True) # Fill the null values with empty string\n",
    "    # Remove punctuation :-\n",
    "    noPunc = [c for c in desc if c.isalnum() or c.isspace()]\n",
    "    noPunc = ''.join(noPunc)\n",
    "    noPunc = noPunc.split()\n",
    "    # Remove stopwords :-\n",
    "    stopword = stopwords.words('english')\n",
    "    desc_stopwords = [word.lower() for word in noPunc if word.lower() not in stopword]\n",
    "    # Replace words with their respective stems :-\n",
    "    stemmer = PorterStemmer()\n",
    "    desc_cleaned = [stemmer.stem(word) for word in desc_stopwords]\n",
    "    return desc_cleaned"
   ]
  },
  {
   "cell_type": "code",
   "execution_count": 31,
   "metadata": {},
   "outputs": [],
   "source": [
    "# Vectorizing the data :-\n",
    "from sklearn.feature_extraction.text import TfidfVectorizer\n",
    "tfidf = TfidfVectorizer(analyzer=text_process)\n",
    "tfidf_matrix = tfidf.fit_transform(articles['combined_cols'])"
   ]
  },
  {
   "cell_type": "code",
   "execution_count": 32,
   "metadata": {},
   "outputs": [],
   "source": [
    "# Recommender system :-\n",
    "from sklearn.metrics.pairwise import cosine_similarity\n",
    "cos_sim = cosine_similarity(tfidf_matrix, tfidf_matrix)"
   ]
  },
  {
   "cell_type": "code",
   "execution_count": 33,
   "metadata": {},
   "outputs": [],
   "source": [
    "# Map the article_id to their indices :-\n",
    "indices = pd.Series(articles.index, index=articles['uniq_id']).drop_duplicates()"
   ]
  },
  {
   "cell_type": "code",
   "execution_count": 34,
   "metadata": {},
   "outputs": [],
   "source": [
    "# Method to predict similar articles :-\n",
    "def recommendations(uniq_id):\n",
    "    i = indices[uniq_id] # Index of the articles that match the given article\n",
    "    sim_scores = list(enumerate(cos_sim[i])) # Similarity scores of all articles w.r.t. to the given article\n",
    "    sim_scores.sort(key=lambda x: x[1], reverse=True) # Sort the similarity scores in descending order\n",
    "    # Get the scores of the 10 most similar articles\n",
    "    sim_scores = sim_scores[:10]\n",
    "    # Get the article indices\n",
    "    article_indices = [score[0] for score in sim_scores]\n",
    "    return articles['uniq_id'].iloc[article_indices].values"
   ]
  },
  {
   "cell_type": "code",
   "execution_count": 35,
   "metadata": {},
   "outputs": [
    {
     "name": "stdout",
     "output_type": "stream",
     "text": [
      "['c2d766ca982eca8304150849735ffef9' 'd95b0456a0350bc42f2393c6e84b0f09'\n",
      " '9aacdecceb404c74abddc513fd2756a8' 'ce5a6818f7707e2cb61fdcdbba61f5ad'\n",
      " '0973b37acd0c664e3de26e97e5571454' '4044c0ac52c1ee4b28777417651faf42'\n",
      " 'ea98a65ad1e1b8688eddf89fbc7b3e27' '181136677467016d6986b77f70d54558'\n",
      " '39d784dd3fb323768028008b2f5ff3e4' 'c383c66d5d32e4f7f59a371fd8952132']\n"
     ]
    }
   ],
   "source": [
    "# Get the recommendations for a sample product :-\n",
    "predict_recom = recommendations(\"c2d766ca982eca8304150849735ffef9\")\n",
    "print(predict_recom)"
   ]
  },
  {
   "cell_type": "code",
   "execution_count": 36,
   "metadata": {},
   "outputs": [],
   "source": [
    "# Save the recommender as a file :-\n",
    "import pickle\n",
    "\n",
    "# Save the similarity matrix to a file using pickle :-\n",
    "with open('recommender.pkl', 'wb') as file:\n",
    "    pickle.dump(cos_sim, file)"
   ]
  },
  {
   "cell_type": "code",
   "execution_count": 37,
   "metadata": {},
   "outputs": [],
   "source": [
    "# Method for showing search results with a given description of the product :-\n",
    "def search_result(desc):\n",
    "    search_tfidf = tfidf.transform([desc])\n",
    "    cos_sim = cosine_similarity(search_tfidf, tfidf_matrix)\n",
    "    sim_scores = list(enumerate(cos_sim[0]))\n",
    "    sim_scores.sort(key=lambda x: x[1], reverse=True)\n",
    "    sim_scores = sim_scores[:50]\n",
    "    article_indices = [score[0] for score in sim_scores]\n",
    "    return articles['uniq_id'].iloc[article_indices].values"
   ]
  },
  {
   "cell_type": "code",
   "execution_count": 40,
   "metadata": {},
   "outputs": [
    {
     "name": "stderr",
     "output_type": "stream",
     "text": [
      "C:\\Users\\rajat\\AppData\\Local\\Temp\\ipykernel_10024\\2673555868.py:6: FutureWarning: A value is trying to be set on a copy of a DataFrame or Series through chained assignment using an inplace method.\n",
      "The behavior will change in pandas 3.0. This inplace method will never work because the intermediate object on which we are setting values always behaves as a copy.\n",
      "\n",
      "For example, when doing 'df[col].method(value, inplace=True)', try using 'df.method({col: value}, inplace=True)' or df[col] = df[col].method(value) instead, to perform the operation inplace on the original object.\n",
      "\n",
      "\n",
      "  articles['combined_cols'].fillna(value='', inplace=True) # Fill the null values with empty string\n"
     ]
    },
    {
     "data": {
      "text/plain": [
       "array(['0370897d8e2647883151ad6948f7769b',\n",
       "       '0c42c972eca4fbdc7604d4c1c676c0b5',\n",
       "       '4afcbd2c8a4009fa63eb542c4b60ea35',\n",
       "       'c885d8407b867f55ef204b8bf9385140',\n",
       "       'a2575f3a6712823fb0dd0e3fca02c0e8',\n",
       "       '5e3e203afc9c3058f3b9d9ef9c1b70cd',\n",
       "       'ced189e5250a1458bd6edca43d67da0a',\n",
       "       'ce2ec7c6546921f076099a61d88c6446',\n",
       "       '38c30b0d78d08f62b1824560b25fd142',\n",
       "       '47d830af6eef7053a542c643b9086f8b',\n",
       "       'e2e25e25abfce0b5c107613c031a25fd',\n",
       "       'e81b9e7f47cd0c05aeac4cff864f84e7',\n",
       "       '48702749935b80974896c9b864d0e87e',\n",
       "       '0754b91420bcbc9290e474432f7d2d69',\n",
       "       '3d6c1d9ba9a5d7f8dbf06c43f1068f77',\n",
       "       'fa8393fa724d47b46b33528697dacf0c',\n",
       "       '4a0f012a89720462d21dcc86bc336c5a',\n",
       "       'd14bc32eb8430ce98fe306d753845828',\n",
       "       '739015759c91f3861e9a46d60b5e09cc',\n",
       "       '65d7bdc0f3aabf3fa08b6d44badcf152',\n",
       "       '2146f219121cb781b5e84cfca5383432',\n",
       "       '92ec6c477bbdbb210708f4ef54f98fa8',\n",
       "       '0bb61c94868e866fb432a7608e87460d',\n",
       "       '417cdcc135eb16165862b020e17014d8',\n",
       "       'cf9545d146c083615b7199e4fb209d67',\n",
       "       '61ae289bd0cc4fac2accd63c73e264fd',\n",
       "       '0bff0eda7a6677dc1acb0477a1f7a121',\n",
       "       '8ba4e284bf05a6c04cb6843f155f8381',\n",
       "       '2b4c6ed3b303a6c1b7476cac4cab762f',\n",
       "       '8175dfb33ee3e14a8e986aea5d787d53',\n",
       "       '945f5557bdb81965d10f38cef8dca745',\n",
       "       '62c301f084abfeb842fc24d8bed1382d',\n",
       "       'aacacc027a2812449c5712b9470eb6ae',\n",
       "       'd86808dfbd9285a1f628002d59e0b0cf',\n",
       "       '935ef022ae95f141f4a987af266e84cf',\n",
       "       '041f50133a26a7d3fd4fd74f88b03762',\n",
       "       '6238d5b46ae77f5e51de1d3c4764163b',\n",
       "       '5eb4edd8ae194393e2ba1835ec6b9472',\n",
       "       '3bc98543c7dd0d8fce5b8185b4a58c43',\n",
       "       'f1acad98e0d5a8ef5c505d972c4429c2',\n",
       "       'f69eff3dcaae7240cb763f22dbae9a4c',\n",
       "       'b637be962d9a207652372ca3d4bbe947',\n",
       "       '1df7678ea3291a0ecbc3387d46ae5ad3',\n",
       "       '9fabe097137d550043b83a9b0e8e0b5c',\n",
       "       '2a08ce48b49588abe12fb544a1a7899b',\n",
       "       '4b7c2cf9a7d3c77259247a0a676b311c',\n",
       "       '5b32f8df2453fb93069862bc166cdae7',\n",
       "       'af6f242293d4e27944a2397f49df079b',\n",
       "       'e5a5956dc69034776fa093f891ff9a44',\n",
       "       'ff5ac6500716acdc2312f2430d9d325a'], dtype=object)"
      ]
     },
     "execution_count": 40,
     "metadata": {},
     "output_type": "execute_result"
    }
   ],
   "source": [
    "# Sample search :-\n",
    "search_result(\"Track pants for men\")"
   ]
  },
  {
   "cell_type": "code",
   "execution_count": 41,
   "metadata": {},
   "outputs": [],
   "source": [
    "# Save both the TfidfVectorizer and tfidf_matrix as files for searching products :-\n",
    "with open('tfidf.pkl', 'wb') as file:\n",
    "    pickle.dump(tfidf, file)\n",
    "with open('tfidf_matrix.pkl', 'wb') as file:\n",
    "    pickle.dump(tfidf_matrix, file)"
   ]
  }
 ],
 "metadata": {
  "kernelspec": {
   "display_name": "Python 3",
   "language": "python",
   "name": "python3"
  },
  "language_info": {
   "codemirror_mode": {
    "name": "ipython",
    "version": 3
   },
   "file_extension": ".py",
   "mimetype": "text/x-python",
   "name": "python",
   "nbconvert_exporter": "python",
   "pygments_lexer": "ipython3",
   "version": "3.11.4"
  },
  "orig_nbformat": 4
 },
 "nbformat": 4,
 "nbformat_minor": 2
}
